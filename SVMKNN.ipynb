{
 "cells": [
  {
   "cell_type": "code",
   "execution_count": 1,
   "metadata": {},
   "outputs": [],
   "source": [
    "import cv2\n",
    "import glob\n",
    "import numpy as np\n",
    "from sklearn import metrics\n",
    "import matplotlib.pyplot as plt\n",
    "from sklearn.neighbors import KNeighborsClassifier as knn\n",
    "from sklearn.svm import LinearSVC as svm\n",
    "from sklearn.model_selection import train_test_split\n",
    "import pickle\n",
    "from sklearn import svm\n",
    "from sklearn.svm import SVC\n",
    "training_data=[]\n",
    "for infile in glob.glob('Dataset\\\\*\\\\*'):\n",
    "    a=cv2.imread(infile)\n",
    "    gray=cv2.cvtColor(a,cv2.COLOR_BGR2GRAY)\n",
    "    training_data.append(cv2.resize(gray,(350,350)).flatten())\n",
    "training_data=np.asarray(training_data)\n",
    "\n",
    "#x=training_data[0]\n",
    "#plt.imshow(x.reshape(350,350))\n",
    "\n",
    "testing_data=[]\n",
    "for infile in glob.glob('Dataset//*//*'):\n",
    "    path=infile.split('\\\\')\n",
    "    #print(path[1])\n",
    "    #testing_data.append(cv2.resize(gray,(350,350)).flatten())\n",
    "    testing_data.append(path[1])\n",
    "testing_data=np.asarray(testing_data)\n",
    "\n",
    "X_train, X_test, y_train, y_test = train_test_split(training_data, testing_data,test_size=0.3)"
   ]
  },
  {
   "cell_type": "markdown",
   "metadata": {},
   "source": [
    "SVM Training"
   ]
  },
  {
   "cell_type": "code",
   "execution_count": 2,
   "metadata": {},
   "outputs": [
    {
     "name": "stdout",
     "output_type": "stream",
     "text": [
      "Accuracy on training set:\n",
      "0.9964285714285714\n",
      "Accuracy on testing set:\n",
      "0.8760330578512396\n",
      "Classification Report:\n",
      "              precision    recall  f1-score   support\n",
      "\n",
      "        Alex       1.00      1.00      1.00        11\n",
      "      Ananya       0.90      0.64      0.75        14\n",
      "       Dhruv       0.93      1.00      0.96        13\n",
      "       Ethan       1.00      1.00      1.00        13\n",
      "     Kavisha       1.00      0.82      0.90        11\n",
      "      Mithun       0.90      0.69      0.78        13\n",
      "      Premal       1.00      0.92      0.96        12\n",
      "       Sahil       0.71      0.83      0.77        12\n",
      "        Sonu       0.43      0.86      0.57         7\n",
      "         Tom       1.00      1.00      1.00        15\n",
      "\n",
      "    accuracy                           0.88       121\n",
      "   macro avg       0.89      0.88      0.87       121\n",
      "weighted avg       0.91      0.88      0.88       121\n",
      "\n"
     ]
    }
   ],
   "source": [
    "#SVM=svm()\n",
    "SVM=svm.SVC(kernel='rbf')\n",
    "SVM.fit(X_train, y_train)\n",
    "\n",
    "print (\"Accuracy on training set:\")\n",
    "print (SVM.score(X_train, y_train))\n",
    "\n",
    "print (\"Accuracy on testing set:\")\n",
    "print (SVM.score(X_test, y_test))\n",
    "   \n",
    "y_pred = SVM.predict(X_test)\n",
    "    \n",
    "print (\"Classification Report:\")\n",
    "print (metrics.classification_report(y_test, y_pred))\n",
    "\n",
    "#print (\"Confusion Matrix:\")\n",
    "#print (metrics.confusion_matrix(y_test, y_pred))\n",
    "pickle.dump(SVM,open(\"model\",'wb'))"
   ]
  },
  {
   "cell_type": "code",
   "execution_count": 3,
   "metadata": {},
   "outputs": [],
   "source": [
    "#from sklearn.model_selection import cross_val_score\n",
    "#scores = cross_val_score(SVM, X_train, y_train, cv=3)\n",
    "#print(scores)"
   ]
  },
  {
   "cell_type": "markdown",
   "metadata": {},
   "source": [
    "KNN Training "
   ]
  },
  {
   "cell_type": "code",
   "execution_count": 4,
   "metadata": {
    "scrolled": false
   },
   "outputs": [
    {
     "name": "stdout",
     "output_type": "stream",
     "text": [
      "Accuracy on training set:\n",
      "0.9678571428571429\n",
      "Accuracy on testing set:\n",
      "0.8925619834710744\n",
      "Classification Report:\n",
      "              precision    recall  f1-score   support\n",
      "\n",
      "        Alex       1.00      1.00      1.00        11\n",
      "      Ananya       0.92      0.79      0.85        14\n",
      "       Dhruv       0.93      1.00      0.96        13\n",
      "       Ethan       1.00      1.00      1.00        13\n",
      "     Kavisha       0.75      0.82      0.78        11\n",
      "      Mithun       0.85      0.85      0.85        13\n",
      "      Premal       1.00      0.83      0.91        12\n",
      "       Sahil       0.92      0.92      0.92        12\n",
      "        Sonu       0.44      0.57      0.50         7\n",
      "         Tom       1.00      1.00      1.00        15\n",
      "\n",
      "    accuracy                           0.89       121\n",
      "   macro avg       0.88      0.88      0.88       121\n",
      "weighted avg       0.90      0.89      0.90       121\n",
      "\n",
      "Confusion Matrix:\n",
      "[[11  0  0  0  0  0  0  0  0  0]\n",
      " [ 0 11  0  0  0  0  0  0  3  0]\n",
      " [ 0  0 13  0  0  0  0  0  0  0]\n",
      " [ 0  0  0 13  0  0  0  0  0  0]\n",
      " [ 0  0  0  0  9  0  0  0  2  0]\n",
      " [ 0  1  0  0  0 11  0  1  0  0]\n",
      " [ 0  0  0  0  0  2 10  0  0  0]\n",
      " [ 0  0  1  0  0  0  0 11  0  0]\n",
      " [ 0  0  0  0  3  0  0  0  4  0]\n",
      " [ 0  0  0  0  0  0  0  0  0 15]]\n"
     ]
    }
   ],
   "source": [
    "KNN=knn(n_neighbors=3,leaf_size=4,p=1)\n",
    "KNN.fit(X_train, y_train)\n",
    "\n",
    "print (\"Accuracy on training set:\")\n",
    "print (KNN.score(X_train, y_train))\n",
    "\n",
    "print (\"Accuracy on testing set:\")\n",
    "print (KNN.score(X_test, y_test))\n",
    "   \n",
    "y_pred = KNN.predict(X_test)\n",
    "    \n",
    "print (\"Classification Report:\")\n",
    "print (metrics.classification_report(y_test, y_pred))\n",
    "\n",
    "print (\"Confusion Matrix:\")\n",
    "print (metrics.confusion_matrix(y_test, y_pred))\n",
    "pickle.dump(KNN,open(\"model\",'wb'))"
   ]
  },
  {
   "cell_type": "code",
   "execution_count": null,
   "metadata": {},
   "outputs": [],
   "source": [
    "#from sklearn.model_selection import cross_val_score\n",
    "#scores = cross_val_score(KNN, X_train, y_train, cv=3)\n",
    "#print(scores)"
   ]
  },
  {
   "cell_type": "code",
   "execution_count": null,
   "metadata": {},
   "outputs": [],
   "source": []
  }
 ],
 "metadata": {
  "kernelspec": {
   "display_name": "Python 3",
   "language": "python",
   "name": "python3"
  },
  "language_info": {
   "codemirror_mode": {
    "name": "ipython",
    "version": 3
   },
   "file_extension": ".py",
   "mimetype": "text/x-python",
   "name": "python",
   "nbconvert_exporter": "python",
   "pygments_lexer": "ipython3",
   "version": "3.7.9"
  }
 },
 "nbformat": 4,
 "nbformat_minor": 4
}
