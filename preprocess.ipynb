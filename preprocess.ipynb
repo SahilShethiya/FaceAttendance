{
 "cells": [
  {
   "cell_type": "code",
   "execution_count": null,
   "metadata": {
    "_cell_guid": "b1076dfc-b9ad-4769-8c92-a6c4dae69d19",
    "_uuid": "8f2839f25d086af736a60e9eeb907d3b93b6e0e5"
   },
   "outputs": [],
   "source": [
    "import os\n",
    "import keras\n",
    "import cv2\n",
    "import tensorflow as tf\n",
    "from keras.callbacks import ModelCheckpoint\n",
    "from keras.preprocessing.image import ImageDataGenerator\n",
    "from PIL import Image  \n",
    "import pandas as pd\n",
    "import tensorflow as tf\n",
    "from keras.preprocessing.image import save_img\n"
   ]
  },
  {
   "cell_type": "code",
   "execution_count": null,
   "metadata": {},
   "outputs": [],
   "source": [
    "csvFile = pd.read_csv('images.csv')\n",
    "classes=['Sahil']"
   ]
  },
  {
   "cell_type": "code",
   "execution_count": null,
   "metadata": {},
   "outputs": [],
   "source": [
    "image_size = (299, 299)\n",
    "IMG_SIZE = 299\n",
    "\n",
    "def blur(img):\n",
    "    return (cv2.GaussianBlur(img,(5,5),cv2.BORDER_DEFAULT))\n",
    "\n",
    "augmentor = ImageDataGenerator(samplewise_center=True, \n",
    "                              samplewise_std_normalization=True, \n",
    "                              horizontal_flip = True, \n",
    "                              vertical_flip = False, \n",
    "                              height_shift_range= 0.15, \n",
    "                              width_shift_range=0.1, \n",
    "                              rotation_range=10, \n",
    "                              shear_range = 0.1,\n",
    "                              brightness_range=[0.5,1.0],\n",
    "                              preprocessing_function= blur,\n",
    "                              zoom_range=0.1)"
   ]
  },
  {
   "cell_type": "code",
   "execution_count": null,
   "metadata": {},
   "outputs": [],
   "source": [
    "for i in range(37):\n",
    "    for label in classes:\n",
    "        dataframe = csvFile[csvFile['Labels']==label]\n",
    "        x,y = next(augmentor.flow_from_dataframe(dataframe=csvFile,\n",
    "                    directory=None,\n",
    "                    x_col = 'Images',\n",
    "                    y_col = 'Labels',\n",
    "                    class_mode = 'categorical',\n",
    "                    classes = classes,\n",
    "                    target_size = image_size,\n",
    "                    color_mode = 'rgb',\n",
    "                    batch_size = 5))\n",
    "\n",
    "        name =label+str(i+1)+'aug.png'\n",
    "        images =[name]\n",
    "        label =[label]\n",
    "        save_img(name,x[0])"
   ]
  },
  {
   "cell_type": "code",
   "execution_count": null,
   "metadata": {},
   "outputs": [],
   "source": []
  }
 ],
 "metadata": {
  "kernelspec": {
   "display_name": "Python 3",
   "language": "python",
   "name": "python3"
  },
  "language_info": {
   "codemirror_mode": {
    "name": "ipython",
    "version": 3
   },
   "file_extension": ".py",
   "mimetype": "text/x-python",
   "name": "python",
   "nbconvert_exporter": "python",
   "pygments_lexer": "ipython3",
   "version": "3.7.9"
  }
 },
 "nbformat": 4,
 "nbformat_minor": 4
}
